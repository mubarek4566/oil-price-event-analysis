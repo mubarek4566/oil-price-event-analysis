{
 "cells": [
  {
   "cell_type": "code",
   "execution_count": null,
   "id": "ee8c4c53",
   "metadata": {},
   "outputs": [],
   "source": [
    "import pandas as pd \n",
    "import numpy as np \n",
    "import sys\n",
    "import os\n",
    "import joblib\n",
    "\n",
    "# Load other functions\n",
    "sys.path.append(os.path.abspath('../src'))\n",
    "sys.path.append(os.path.abspath('../scripts'))\n",
    "\n",
    "from Load_data import CSVDataloader, get_file_path"
   ]
  },
  {
   "cell_type": "code",
   "execution_count": null,
   "id": "c4aa4df1",
   "metadata": {},
   "outputs": [],
   "source": [
    "# Load credit data\n",
    "data = get_file_path(\"oildata\")\n",
    "data_loader = CSVDataloader(data)\n",
    "df = data_loader.load_data()"
   ]
  },
  {
   "cell_type": "code",
   "execution_count": null,
   "id": "9324a425",
   "metadata": {},
   "outputs": [],
   "source": []
  }
 ],
 "metadata": {
  "kernelspec": {
   "display_name": "Python 3.10 (tf-env)",
   "language": "python",
   "name": "tf-env"
  },
  "language_info": {
   "name": "python",
   "version": "3.10.0"
  }
 },
 "nbformat": 4,
 "nbformat_minor": 5
}
